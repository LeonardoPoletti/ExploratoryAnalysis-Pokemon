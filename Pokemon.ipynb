{
 "cells": [
  {
   "cell_type": "markdown",
   "metadata": {},
   "source": [
    "# Pokemon"
   ]
  },
  {
   "cell_type": "markdown",
   "metadata": {},
   "source": [
    "Importar o dataset presente no github \"https://github.com/LeonardoPoletti\""
   ]
  },
  {
   "cell_type": "code",
   "execution_count": 6,
   "metadata": {},
   "outputs": [],
   "source": [
    "import pandas as pd"
   ]
  },
  {
   "cell_type": "code",
   "execution_count": 9,
   "metadata": {},
   "outputs": [],
   "source": [
    "ds = pd.read_csv(\"https://raw.githubusercontent.com/LeonardoPoletti/Dataset/master/Pokemon/pokemon.csv\")"
   ]
  },
  {
   "cell_type": "markdown",
   "metadata": {},
   "source": [
    "Verificar a quantidade e quais são as informações que o dataset possue"
   ]
  },
  {
   "cell_type": "code",
   "execution_count": 12,
   "metadata": {},
   "outputs": [
    {
     "output_type": "execute_result",
     "data": {
      "text/plain": "(721, 23)"
     },
     "metadata": {},
     "execution_count": 12
    }
   ],
   "source": [
    "ds.shape"
   ]
  },
  {
   "cell_type": "code",
   "execution_count": 17,
   "metadata": {},
   "outputs": [
    {
     "output_type": "execute_result",
     "data": {
      "text/plain": "   Number        Name Type_1  Type_2  Total  HP  Attack  Defense  Sp_Atk  \\\n0       1   Bulbasaur  Grass  Poison    318  45      49       49      65   \n1       2     Ivysaur  Grass  Poison    405  60      62       63      80   \n2       3    Venusaur  Grass  Poison    525  80      82       83     100   \n3       4  Charmander   Fire     NaN    309  39      52       43      60   \n4       5  Charmeleon   Fire     NaN    405  58      64       58      80   \n\n   Sp_Def  ...  Color  hasGender  Pr_Male Egg_Group_1  Egg_Group_2  \\\n0      65  ...  Green       True    0.875     Monster        Grass   \n1      80  ...  Green       True    0.875     Monster        Grass   \n2     100  ...  Green       True    0.875     Monster        Grass   \n3      50  ...    Red       True    0.875     Monster       Dragon   \n4      65  ...    Red       True    0.875     Monster       Dragon   \n\n   hasMegaEvolution Height_m Weight_kg  Catch_Rate      Body_Style  \n0             False     0.71       6.9          45       quadruped  \n1             False     0.99      13.0          45       quadruped  \n2              True     2.01     100.0          45       quadruped  \n3             False     0.61       8.5          45  bipedal_tailed  \n4             False     1.09      19.0          45  bipedal_tailed  \n\n[5 rows x 23 columns]",
      "text/html": "<div>\n<style scoped>\n    .dataframe tbody tr th:only-of-type {\n        vertical-align: middle;\n    }\n\n    .dataframe tbody tr th {\n        vertical-align: top;\n    }\n\n    .dataframe thead th {\n        text-align: right;\n    }\n</style>\n<table border=\"1\" class=\"dataframe\">\n  <thead>\n    <tr style=\"text-align: right;\">\n      <th></th>\n      <th>Number</th>\n      <th>Name</th>\n      <th>Type_1</th>\n      <th>Type_2</th>\n      <th>Total</th>\n      <th>HP</th>\n      <th>Attack</th>\n      <th>Defense</th>\n      <th>Sp_Atk</th>\n      <th>Sp_Def</th>\n      <th>...</th>\n      <th>Color</th>\n      <th>hasGender</th>\n      <th>Pr_Male</th>\n      <th>Egg_Group_1</th>\n      <th>Egg_Group_2</th>\n      <th>hasMegaEvolution</th>\n      <th>Height_m</th>\n      <th>Weight_kg</th>\n      <th>Catch_Rate</th>\n      <th>Body_Style</th>\n    </tr>\n  </thead>\n  <tbody>\n    <tr>\n      <th>0</th>\n      <td>1</td>\n      <td>Bulbasaur</td>\n      <td>Grass</td>\n      <td>Poison</td>\n      <td>318</td>\n      <td>45</td>\n      <td>49</td>\n      <td>49</td>\n      <td>65</td>\n      <td>65</td>\n      <td>...</td>\n      <td>Green</td>\n      <td>True</td>\n      <td>0.875</td>\n      <td>Monster</td>\n      <td>Grass</td>\n      <td>False</td>\n      <td>0.71</td>\n      <td>6.9</td>\n      <td>45</td>\n      <td>quadruped</td>\n    </tr>\n    <tr>\n      <th>1</th>\n      <td>2</td>\n      <td>Ivysaur</td>\n      <td>Grass</td>\n      <td>Poison</td>\n      <td>405</td>\n      <td>60</td>\n      <td>62</td>\n      <td>63</td>\n      <td>80</td>\n      <td>80</td>\n      <td>...</td>\n      <td>Green</td>\n      <td>True</td>\n      <td>0.875</td>\n      <td>Monster</td>\n      <td>Grass</td>\n      <td>False</td>\n      <td>0.99</td>\n      <td>13.0</td>\n      <td>45</td>\n      <td>quadruped</td>\n    </tr>\n    <tr>\n      <th>2</th>\n      <td>3</td>\n      <td>Venusaur</td>\n      <td>Grass</td>\n      <td>Poison</td>\n      <td>525</td>\n      <td>80</td>\n      <td>82</td>\n      <td>83</td>\n      <td>100</td>\n      <td>100</td>\n      <td>...</td>\n      <td>Green</td>\n      <td>True</td>\n      <td>0.875</td>\n      <td>Monster</td>\n      <td>Grass</td>\n      <td>True</td>\n      <td>2.01</td>\n      <td>100.0</td>\n      <td>45</td>\n      <td>quadruped</td>\n    </tr>\n    <tr>\n      <th>3</th>\n      <td>4</td>\n      <td>Charmander</td>\n      <td>Fire</td>\n      <td>NaN</td>\n      <td>309</td>\n      <td>39</td>\n      <td>52</td>\n      <td>43</td>\n      <td>60</td>\n      <td>50</td>\n      <td>...</td>\n      <td>Red</td>\n      <td>True</td>\n      <td>0.875</td>\n      <td>Monster</td>\n      <td>Dragon</td>\n      <td>False</td>\n      <td>0.61</td>\n      <td>8.5</td>\n      <td>45</td>\n      <td>bipedal_tailed</td>\n    </tr>\n    <tr>\n      <th>4</th>\n      <td>5</td>\n      <td>Charmeleon</td>\n      <td>Fire</td>\n      <td>NaN</td>\n      <td>405</td>\n      <td>58</td>\n      <td>64</td>\n      <td>58</td>\n      <td>80</td>\n      <td>65</td>\n      <td>...</td>\n      <td>Red</td>\n      <td>True</td>\n      <td>0.875</td>\n      <td>Monster</td>\n      <td>Dragon</td>\n      <td>False</td>\n      <td>1.09</td>\n      <td>19.0</td>\n      <td>45</td>\n      <td>bipedal_tailed</td>\n    </tr>\n  </tbody>\n</table>\n<p>5 rows × 23 columns</p>\n</div>"
     },
     "metadata": {},
     "execution_count": 17
    }
   ],
   "source": [
    "ds.head()"
   ]
  },
  {
   "cell_type": "code",
   "execution_count": 20,
   "metadata": {},
   "outputs": [
    {
     "output_type": "execute_result",
     "data": {
      "text/plain": "          Number       Total          HP      Attack     Defense      Sp_Atk  \\\ncount  721.00000  721.000000  721.000000  721.000000  721.000000  721.000000   \nmean   361.00000  417.945908   68.380028   75.013870   70.808599   68.737864   \nstd    208.27906  109.663671   25.848272   28.984475   29.296558   28.788005   \nmin      1.00000  180.000000    1.000000    5.000000    5.000000   10.000000   \n25%    181.00000  320.000000   50.000000   53.000000   50.000000   45.000000   \n50%    361.00000  424.000000   65.000000   74.000000   65.000000   65.000000   \n75%    541.00000  499.000000   80.000000   95.000000   85.000000   90.000000   \nmax    721.00000  720.000000  255.000000  165.000000  230.000000  154.000000   \n\n           Sp_Def       Speed  Generation     Pr_Male    Height_m   Weight_kg  \\\ncount  721.000000  721.000000  721.000000  644.000000  721.000000  721.000000   \nmean    69.291262   65.714286    3.323162    0.553377    1.144979   56.773370   \nstd     27.015860   27.277920    1.669873    0.199969    1.044369   89.095667   \nmin     20.000000    5.000000    1.000000    0.000000    0.100000    0.100000   \n25%     50.000000   45.000000    2.000000    0.500000    0.610000    9.400000   \n50%     65.000000   65.000000    3.000000    0.500000    0.990000   28.000000   \n75%     85.000000   85.000000    5.000000    0.500000    1.400000   61.000000   \nmax    230.000000  160.000000    6.000000    1.000000   14.500000  950.000000   \n\n       Catch_Rate  \ncount  721.000000  \nmean   100.246879  \nstd     76.573513  \nmin      3.000000  \n25%     45.000000  \n50%     65.000000  \n75%    180.000000  \nmax    255.000000  ",
      "text/html": "<div>\n<style scoped>\n    .dataframe tbody tr th:only-of-type {\n        vertical-align: middle;\n    }\n\n    .dataframe tbody tr th {\n        vertical-align: top;\n    }\n\n    .dataframe thead th {\n        text-align: right;\n    }\n</style>\n<table border=\"1\" class=\"dataframe\">\n  <thead>\n    <tr style=\"text-align: right;\">\n      <th></th>\n      <th>Number</th>\n      <th>Total</th>\n      <th>HP</th>\n      <th>Attack</th>\n      <th>Defense</th>\n      <th>Sp_Atk</th>\n      <th>Sp_Def</th>\n      <th>Speed</th>\n      <th>Generation</th>\n      <th>Pr_Male</th>\n      <th>Height_m</th>\n      <th>Weight_kg</th>\n      <th>Catch_Rate</th>\n    </tr>\n  </thead>\n  <tbody>\n    <tr>\n      <th>count</th>\n      <td>721.00000</td>\n      <td>721.000000</td>\n      <td>721.000000</td>\n      <td>721.000000</td>\n      <td>721.000000</td>\n      <td>721.000000</td>\n      <td>721.000000</td>\n      <td>721.000000</td>\n      <td>721.000000</td>\n      <td>644.000000</td>\n      <td>721.000000</td>\n      <td>721.000000</td>\n      <td>721.000000</td>\n    </tr>\n    <tr>\n      <th>mean</th>\n      <td>361.00000</td>\n      <td>417.945908</td>\n      <td>68.380028</td>\n      <td>75.013870</td>\n      <td>70.808599</td>\n      <td>68.737864</td>\n      <td>69.291262</td>\n      <td>65.714286</td>\n      <td>3.323162</td>\n      <td>0.553377</td>\n      <td>1.144979</td>\n      <td>56.773370</td>\n      <td>100.246879</td>\n    </tr>\n    <tr>\n      <th>std</th>\n      <td>208.27906</td>\n      <td>109.663671</td>\n      <td>25.848272</td>\n      <td>28.984475</td>\n      <td>29.296558</td>\n      <td>28.788005</td>\n      <td>27.015860</td>\n      <td>27.277920</td>\n      <td>1.669873</td>\n      <td>0.199969</td>\n      <td>1.044369</td>\n      <td>89.095667</td>\n      <td>76.573513</td>\n    </tr>\n    <tr>\n      <th>min</th>\n      <td>1.00000</td>\n      <td>180.000000</td>\n      <td>1.000000</td>\n      <td>5.000000</td>\n      <td>5.000000</td>\n      <td>10.000000</td>\n      <td>20.000000</td>\n      <td>5.000000</td>\n      <td>1.000000</td>\n      <td>0.000000</td>\n      <td>0.100000</td>\n      <td>0.100000</td>\n      <td>3.000000</td>\n    </tr>\n    <tr>\n      <th>25%</th>\n      <td>181.00000</td>\n      <td>320.000000</td>\n      <td>50.000000</td>\n      <td>53.000000</td>\n      <td>50.000000</td>\n      <td>45.000000</td>\n      <td>50.000000</td>\n      <td>45.000000</td>\n      <td>2.000000</td>\n      <td>0.500000</td>\n      <td>0.610000</td>\n      <td>9.400000</td>\n      <td>45.000000</td>\n    </tr>\n    <tr>\n      <th>50%</th>\n      <td>361.00000</td>\n      <td>424.000000</td>\n      <td>65.000000</td>\n      <td>74.000000</td>\n      <td>65.000000</td>\n      <td>65.000000</td>\n      <td>65.000000</td>\n      <td>65.000000</td>\n      <td>3.000000</td>\n      <td>0.500000</td>\n      <td>0.990000</td>\n      <td>28.000000</td>\n      <td>65.000000</td>\n    </tr>\n    <tr>\n      <th>75%</th>\n      <td>541.00000</td>\n      <td>499.000000</td>\n      <td>80.000000</td>\n      <td>95.000000</td>\n      <td>85.000000</td>\n      <td>90.000000</td>\n      <td>85.000000</td>\n      <td>85.000000</td>\n      <td>5.000000</td>\n      <td>0.500000</td>\n      <td>1.400000</td>\n      <td>61.000000</td>\n      <td>180.000000</td>\n    </tr>\n    <tr>\n      <th>max</th>\n      <td>721.00000</td>\n      <td>720.000000</td>\n      <td>255.000000</td>\n      <td>165.000000</td>\n      <td>230.000000</td>\n      <td>154.000000</td>\n      <td>230.000000</td>\n      <td>160.000000</td>\n      <td>6.000000</td>\n      <td>1.000000</td>\n      <td>14.500000</td>\n      <td>950.000000</td>\n      <td>255.000000</td>\n    </tr>\n  </tbody>\n</table>\n</div>"
     },
     "metadata": {},
     "execution_count": 20
    }
   ],
   "source": [
    "ds.describe()"
   ]
  },
  {
   "cell_type": "code",
   "execution_count": 19,
   "metadata": {},
   "outputs": [
    {
     "output_type": "execute_result",
     "data": {
      "text/plain": "721"
     },
     "metadata": {},
     "execution_count": 19
    }
   ],
   "source": [
    "len(ds)"
   ]
  },
  {
   "cell_type": "code",
   "execution_count": 23,
   "metadata": {},
   "outputs": [
    {
     "output_type": "error",
     "ename": "AttributeError",
     "evalue": "'DataFrame' object has no attribute 'DESCR'",
     "traceback": [
      "\u001b[1;31m---------------------------------------------------------------------------\u001b[0m",
      "\u001b[1;31mAttributeError\u001b[0m                            Traceback (most recent call last)",
      "\u001b[1;32m<ipython-input-23-cd3ece8f83a9>\u001b[0m in \u001b[0;36m<module>\u001b[1;34m\u001b[0m\n\u001b[1;32m----> 1\u001b[1;33m \u001b[0mds\u001b[0m\u001b[1;33m.\u001b[0m\u001b[0mDESCR\u001b[0m\u001b[1;33m\u001b[0m\u001b[1;33m\u001b[0m\u001b[0m\n\u001b[0m",
      "\u001b[1;32m~\\anaconda3\\lib\\site-packages\\pandas\\core\\generic.py\u001b[0m in \u001b[0;36m__getattr__\u001b[1;34m(self, name)\u001b[0m\n\u001b[0;32m   5272\u001b[0m             \u001b[1;32mif\u001b[0m \u001b[0mself\u001b[0m\u001b[1;33m.\u001b[0m\u001b[0m_info_axis\u001b[0m\u001b[1;33m.\u001b[0m\u001b[0m_can_hold_identifiers_and_holds_name\u001b[0m\u001b[1;33m(\u001b[0m\u001b[0mname\u001b[0m\u001b[1;33m)\u001b[0m\u001b[1;33m:\u001b[0m\u001b[1;33m\u001b[0m\u001b[1;33m\u001b[0m\u001b[0m\n\u001b[0;32m   5273\u001b[0m                 \u001b[1;32mreturn\u001b[0m \u001b[0mself\u001b[0m\u001b[1;33m[\u001b[0m\u001b[0mname\u001b[0m\u001b[1;33m]\u001b[0m\u001b[1;33m\u001b[0m\u001b[1;33m\u001b[0m\u001b[0m\n\u001b[1;32m-> 5274\u001b[1;33m             \u001b[1;32mreturn\u001b[0m \u001b[0mobject\u001b[0m\u001b[1;33m.\u001b[0m\u001b[0m__getattribute__\u001b[0m\u001b[1;33m(\u001b[0m\u001b[0mself\u001b[0m\u001b[1;33m,\u001b[0m \u001b[0mname\u001b[0m\u001b[1;33m)\u001b[0m\u001b[1;33m\u001b[0m\u001b[1;33m\u001b[0m\u001b[0m\n\u001b[0m\u001b[0;32m   5275\u001b[0m \u001b[1;33m\u001b[0m\u001b[0m\n\u001b[0;32m   5276\u001b[0m     \u001b[1;32mdef\u001b[0m \u001b[0m__setattr__\u001b[0m\u001b[1;33m(\u001b[0m\u001b[0mself\u001b[0m\u001b[1;33m,\u001b[0m \u001b[0mname\u001b[0m\u001b[1;33m:\u001b[0m \u001b[0mstr\u001b[0m\u001b[1;33m,\u001b[0m \u001b[0mvalue\u001b[0m\u001b[1;33m)\u001b[0m \u001b[1;33m->\u001b[0m \u001b[1;32mNone\u001b[0m\u001b[1;33m:\u001b[0m\u001b[1;33m\u001b[0m\u001b[1;33m\u001b[0m\u001b[0m\n",
      "\u001b[1;31mAttributeError\u001b[0m: 'DataFrame' object has no attribute 'DESCR'"
     ]
    }
   ],
   "source": [
    "ds."
   ]
  }
 ],
 "metadata": {
  "language_info": {
   "codemirror_mode": {
    "name": "ipython",
    "version": 3
   },
   "file_extension": ".py",
   "mimetype": "text/x-python",
   "name": "python",
   "nbconvert_exporter": "python",
   "pygments_lexer": "ipython3",
   "version": "3.7.6-final"
  },
  "orig_nbformat": 2,
  "kernelspec": {
   "name": "python3",
   "display_name": "Python 3"
  }
 },
 "nbformat": 4,
 "nbformat_minor": 2
}